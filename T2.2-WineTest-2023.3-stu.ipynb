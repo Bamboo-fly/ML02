{
 "cells": [
  {
   "cell_type": "markdown",
   "id": "472388a2",
   "metadata": {},
   "source": [
    "## 实验二   神经网络\n",
    "### 第2题   使用TensorFlow建立一个3层神经网络（如，13×50×1），对wine数据集（wine_data-2.csv）进行分类"
   ]
  },
  {
   "cell_type": "code",
   "execution_count": null,
   "id": "f47e2b57",
   "metadata": {},
   "outputs": [],
   "source": [
    "#  2023.3.20\n",
    "import tensorflow as tf\n",
    "from matplotlib import pyplot as plt\n",
    "import numpy as np\n",
    "import csv"
   ]
  },
  {
   "cell_type": "code",
   "execution_count": 15,
   "id": "e185420a-b329-4ee8-a045-7ff172167349",
   "metadata": {},
   "outputs": [],
   "source": [
    "# 加载数据\n",
    "array1 = []\n",
    "array2 = []\n",
    "train = []\n",
    "train_labels = []\n",
    "test = []\n",
    "test_labels = []\n",
    "\n",
    "with open('wine_data-2.csv', mode='r') as file:\n",
    "    # reading the CSV file\n",
    "    csvFile = csv.reader(file, delimiter=',')\n",
    "    header=next(csvFile)  # 忽略第1行\n",
    "    \n",
    "    # displaying the contents of the CSV file\n",
    "    len = 1   \n",
    "    for lines in csvFile: \n",
    "        subarray = []\n",
    "        if len < 60:    #1到59为标签为0的数据\n",
    "            for i in range(14):\n",
    "                subarray.append(float(lines[i]))\n",
    "            array1.append(subarray) #拿到全部标签为0的数据\n",
    "            \n",
    "        if len > 59 and len < 131: #60到130为标签为1的数据\n",
    "            for i in range(14):\n",
    "                subarray.append(float(lines[i]))\n",
    "            array2.append(subarray)#拿到全部标签为1的数据\n",
    "        len += 1\n",
    "\n",
    "    np.random.shuffle(array1) #乱序\n",
    "    np.random.shuffle(array2)\n",
    " \n",
    "    data1, data2 = tf.split(array1, [47, 12], 0) # 从标签0的数据中取80%做训练数据，约20%做测试数据\n",
    "    data3, data4 = tf.split(array2, [56, 15], 0) # 从标签1的数据中取80%做训练数据，约20%做测试数据\n",
    "    \n",
    "    train1, train_labels1 = tf.split(data1, [13, 1], 1) #分出标签\n",
    "    train2, train_labels2 = tf.split(data3, [13, 1], 1) #分出标签\n",
    "    \n",
    "    test1, test_labels1 = tf.split(data2, [13, 1], 1) #分出标签\n",
    "    test2, test_labels2 = tf.split(data4, [13, 1], 1) #分出标签\n",
    "    \n",
    "    train = tf.concat([train1, train2], 0)   #把两类训练数据合并\n",
    "    \n",
    "    train_labels = tf.concat([train_labels1, train_labels2], 0) #把训练集的标签合并\n",
    "    test = tf.concat([test1, test2], 0) #把两类测试数据合并\n",
    "    test_labels = tf.concat([test_labels1, test_labels2], 0) #把测试集的标签合并\n",
    "    \n",
    "    #train_labels = tf.squeeze(train_labels, axis=1)  #消去标签集的第二维度(103, 1)->(103,0)\n",
    "    #test_labels = tf.squeeze(test_labels, axis=1)\n",
    "    \n",
    "\n",
    "def train_preprocess(x_train, y_train):\n",
    "    x_train = tf.cast(x=x_train, dtype=tf.float32) / 100.0  #对数据的值进行缩放，加速拟合\n",
    "    y_train = tf.cast(x=y_train, dtype=tf.int32)\n",
    "    return x_train, y_train\n",
    "\n",
    "\n",
    "def test_preprocess(x_test, y_test):\n",
    "    x_test = tf.cast(x=x_test, dtype=tf.float32) / 100.0 #对数据的值进行缩放，加速拟合\n",
    "    y_test = tf.cast(x=y_test, dtype=tf.int32)\n",
    "    return x_test, y_test\n",
    "\n",
    "\n",
    "train_db = tf.data.Dataset.from_tensor_slices(tensors=(train, train_labels)) #封装训练\n",
    "train_db = train_db.map(map_func=train_preprocess).shuffle(buffer_size=103).batch(batch_size=13)\n",
    "\n",
    "test_db = tf.data.Dataset.from_tensor_slices(tensors=(test, test_labels))\n",
    "test_db = test_db.map(map_func=test_preprocess).shuffle(buffer_size=27).batch(batch_size=27)"
   ]
  },
  {
   "cell_type": "code",
   "execution_count": 16,
   "id": "2b928e4e-f04f-4b69-a8e2-9843985c9bb9",
   "metadata": {},
   "outputs": [
    {
     "name": "stdout",
     "output_type": "stream",
     "text": [
      "Model: \"sequential_3\"\n",
      "_________________________________________________________________\n",
      "Layer (type)                 Output Shape              Param #   \n",
      "=================================================================\n",
      "dense_6 (Dense)              (None, 50)                700       \n",
      "_________________________________________________________________\n",
      "dense_7 (Dense)              (None, 1)                 51        \n",
      "=================================================================\n",
      "Total params: 751\n",
      "Trainable params: 751\n",
      "Non-trainable params: 0\n",
      "_________________________________________________________________\n"
     ]
    }
   ],
   "source": [
    "# 建立神经网络模型（13×50×1）\n",
    "model = tf.keras.Sequential([\n",
    "    tf.keras.layers.Dense(units=50, activation=tf.nn.relu, use_bias=True, kernel_initializer='glorot_uniform',\n",
    "                          bias_initializer='zeros'),\n",
    "    tf.keras.layers.Dense(units=1, activation=tf.nn.sigmoid, use_bias=True, kernel_initializer='glorot_uniform',\n",
    "                          bias_initializer='zeros')\n",
    "])\n",
    "model.build(input_shape=[None, 13])\n",
    "model.summary()\n",
    "\n",
    "#优化器\n",
    "optimizer = tf.keras.optimizers.Adam(learning_rate=0.001, beta_1=0.9, beta_2=0.99, epsilon=1e-08, decay=0)\n",
    "# learning_rate：float> = 0.学习率；\n",
    "# beta_1：float，0 <beta <1。一般接近1。一阶矩估计的指数衰减率；\n",
    "# beta_2：float，0 <beta <1。一般接近1。二阶矩估计的指数衰减率；\n",
    "# epsilon：float> = 0,模糊因子。如果None，默认为K.epsilon()。该参数是非常小的数，其为了防止在实现中除以零。\n",
    "# decay：float> = 0,每次更新时学习率下降"
   ]
  },
  {
   "cell_type": "code",
   "execution_count": 17,
   "id": "888154a4-8b6e-4c18-8836-5503655f8d40",
   "metadata": {},
   "outputs": [],
   "source": [
    "acc = []\n",
    "ep = []\n",
    "\n",
    "#训练神经网络\n",
    "for epoch in range(200):\n",
    "    for step, (x_train, y_train) in enumerate(train_db):\n",
    "        with tf.GradientTape() as tape:\n",
    "            logits = model(x_train)\n",
    "            loss = tf.keras.losses.mean_squared_error(y_train, logits)  # 使用均方误差作为损失函数\n",
    "            tape.watch(model.trainable_variables)\n",
    "        gradient = tape.gradient(target=loss, sources=model.trainable_variables)#梯度下降\n",
    "        optimizer.apply_gradients(zip(gradient, model.trainable_variables))\n",
    "\n",
    "    total_num = 0\n",
    "    \n",
    "    #测试神经网络\n",
    "    for step, (x_test, y_test) in enumerate(test_db):\n",
    "        logits = model(x_test)\n",
    "        logits = tf.squeeze(logits, 1)#消去第二个维度(27, 1)->(27,0)\n",
    "        y_test = tf.squeeze(y_test, 1)#消去第二个维度(27, 1)->(27,0)\n",
    "        \n",
    "        for i in range(logits.shape[0]):\n",
    "            part1 = logits[:i]\n",
    "            part2 = logits[i + 1:]\n",
    "            val = []\n",
    "            if logits[i] > 0.5: # 对模型输出结果大于0.5的认为是标签为是1的数据\n",
    "                val = tf.constant([1], tf.float32)\n",
    "            else:\n",
    "                val = tf.constant([0], tf.float32)  # 对模型输出结果小于等于0.5的认为是标签为是0的数据\n",
    "            logits = tf.concat([part1, val, part2], axis=0)\n",
    "        \n",
    "        prediction = tf.cast(x=logits, dtype=tf.int32) # 把预测结果转为tf.int32类型\n",
    "        correct = tf.equal(x=prediction, y=y_test)  # 获得一个一维向量，其中值为1表示预测正确\n",
    "        correct = tf.cast(x=correct, dtype=tf.int32)\n",
    "        \n",
    "        correct = tf.reduce_sum(input_tensor=correct)  # 获得每个epoch训练完后预测正确的数据的个数\n",
    "        total_num = x_test.shape[0]\n",
    "        \n",
    "    accuracy = correct / total_num\n",
    "    acc.append(accuracy)#收集每个epoch在测试集上的准确度\n",
    "    ep.append(epoch)#收集对应的epoch"
   ]
  },
  {
   "cell_type": "code",
   "execution_count": 18,
   "id": "3b1b9dcb-09ab-462e-9b6a-772ac6cbe3b6",
   "metadata": {},
   "outputs": [
    {
     "data": {
      "image/png": "[encoded data removed]",
      "text/plain": [
       "<Figure size 432x288 with 1 Axes>"
      ]
     },
     "metadata": {
      "needs_background": "light"
     },
     "output_type": "display_data"
    }
   ],
   "source": [
    "# 绘制 测试精度VS训练轮次 的曲线\n",
    "plt.title('Accuracy')\n",
    "plt.xlabel('epoch')\n",
    "plt.ylabel('acc')\n",
    "plt.plot(ep, acc)\n",
    "plt.show()"
   ]
  }
 ],
 "metadata": {
  "kernelspec": {
   "display_name": "Python 3 (ipykernel)",
   "language": "python",
   "name": "python3"
  },
  "language_info": {
   "codemirror_mode": {
    "name": "ipython",
    "version": 3
   },
   "file_extension": ".py",
   "mimetype": "text/x-python",
   "name": "python",
   "nbconvert_exporter": "python",
   "pygments_lexer": "ipython3",
   "version": "3.8.12"
  }
 },
 "nbformat": 4,
 "nbformat_minor": 5
}
