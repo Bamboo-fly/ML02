{
 "cells": [
  {
   "cell_type": "markdown",
   "id": "c626bbe8",
   "metadata": {},
   "source": [
    "## 实验二  神经网络\n",
    "### 第1.2题  累积BP算法"
   ]
  },
  {
   "cell_type": "code",
   "execution_count": 6,
   "id": "5e903c80",
   "metadata": {},
   "outputs": [
    {
     "name": "stdout",
     "output_type": "stream",
     "text": [
      "<class 'numpy.ndarray'>\n"
     ]
    }
   ],
   "source": [
    "#  Wine, 数据预处理\n",
    "from sklearn.model_selection import train_test_split\n",
    "from sklearn.preprocessing import LabelBinarizer, StandardScaler\n",
    "from sklearn.metrics import confusion_matrix, classification_report\n",
    "import numpy as np\n",
    "import matplotlib.pyplot as plt\n",
    "\n",
    "#读数据\n",
    "wine = np.genfromtxt(\"wine_data-2.csv\", delimiter=\",\",skip_header=1)\n",
    "print(type(wine)) # numpy.ndarray\n",
    "X = wine[:,0:13] \n",
    "y = wine[:,13]\n",
    "# print(type(X))\n",
    "# print(type(y))\n",
    "\n",
    "x_train, x_test, y_train, y_test = train_test_split(X, y)   # 默认取出97个样本作为测试集，33个作为测试集"
   ]
  },
  {
   "cell_type": "code",
   "execution_count": 7,
   "id": "b6ce3519",
   "metadata": {},
   "outputs": [],
   "source": [
    "label_train = LabelBinarizer().fit_transform(y_train)"
   ]
  },
  {
   "cell_type": "code",
   "execution_count": 8,
   "id": "af4d8bdf",
   "metadata": {},
   "outputs": [],
   "source": [
    "# 定义激活函数及其导数\n",
    "def sigmoid(x):\n",
    "    return 1 / (1 + np.exp(-x))\n",
    "\n",
    "#激活函数的导数\n",
    "def d_sigmoid(x):\n",
    "    return x * (1 - x)"
   ]
  },
  {
   "cell_type": "code",
   "execution_count": 4,
   "id": "83e65de1",
   "metadata": {},
   "outputs": [
    {
     "name": "stdout",
     "output_type": "stream",
     "text": [
      "n_samples= 97\n"
     ]
    },
    {
     "data": {
      "image/png": "[encoded data removed]",
      "text/plain": [
       "<Figure size 432x288 with 1 Axes>"
      ]
     },
     "metadata": {
      "needs_background": "light"
     },
     "output_type": "display_data"
    }
   ],
   "source": [
    "# 训练神经网络的函数\n",
    "def train(x,y,dim=1,eta=0.1,max_iter=500):  # dim -- 输出单元数\n",
    "    n_samples = x.shape[0]  #  训练样本数，\n",
    "    print(\"n_samples=\",n_samples)\n",
    "    hiden_dim=50\n",
    "    #定义、初始化神经元的权重\n",
    "    w1 = np.zeros((x.shape[1],hiden_dim))  #  （13，50）  <--- 矩阵维数\n",
    "    b1 = np.zeros((1,hiden_dim))  # （1，50）\n",
    "    w2 = np.zeros((hiden_dim,1))  #  （50，1）\n",
    "    b2 = np.zeros((dim,1))  #  （1，1）  \n",
    "    \n",
    "    losslist = []    #损失列表\n",
    "    \n",
    "    for ite in range(max_iter):\n",
    "        ##前向传播   \n",
    "        u1 = np.dot(x,w1)+b1   #（97,13）x (13 , 50) --->（97,50）\n",
    "        out1 = sigmoid(u1)    # 隐含层,（97,50）\n",
    "        u2 = np.dot(out1,w2)+b2   # （97,50）x (50, 1) --->（97,1）\n",
    "        out2 = sigmoid(u2)    #激活层，（97,1）\n",
    "        \n",
    "        loss = np.mean(np.square(y - out2))/2    #均方误差，（97,1）\n",
    "        losslist.append(loss)\n",
    "#         print('iter:%d  loss:%.4f'%(ite,loss))\n",
    "\n",
    "        ##反向传播\n",
    "        ##累计BP\n",
    "        d_out2 = -(y - out2)   # （97,1）\n",
    "        d_u2 = d_out2*d_sigmoid(out2) # （97,1） 矩阵点乘\n",
    "        d_w2 = np.dot(np.transpose(out1),d_u2)  # np.transpose()--矩阵转置,（50,97）x (97, 1) --->（50,1）\n",
    "        d_b2 = d_u2  # (97,1)        \n",
    "        \n",
    "        d_out1 = np.dot(d_u2,np.transpose(w2)) # （97,1）x (1,50) --->（97,50）\n",
    "        \n",
    "        d_u1 = d_out1*d_sigmoid(out1)  # （97，50）点乘 (97, 50) --->（97，50）\n",
    "        \n",
    "        d_w1 = np.dot(np.transpose(x),d_u1) #  （13,97）x (97, 50) --->（13,50）\n",
    "        \n",
    "        d_b1 = d_u1  #（97，50）\n",
    "        \n",
    "        ##更新权重\n",
    "        w1 = w1 - eta*d_w1\n",
    "        w2 = w2 - eta*d_w2\n",
    "        b1 = b1 - eta*d_b1\n",
    "        b2 = b2 - eta*d_b2\n",
    "    ##Loss可视化，损失函数曲线\n",
    "    plt.figure()\n",
    "    plt.plot([i+1 for i in range(max_iter)],losslist)\n",
    "    plt.legend(['accumlated BP'])\n",
    "    plt.xlabel('iteration')\n",
    "    plt.ylabel('loss')\n",
    "    plt.show()\n",
    "    return w1,w2,b1,b2\n",
    "\n",
    "#开始训练神经网络\n",
    "w1,w2,b1,b2 = train(x_train,label_train,1)   #  1--输出神经元个数"
   ]
  },
  {
   "cell_type": "code",
   "execution_count": 5,
   "id": "4bfd0aba",
   "metadata": {},
   "outputs": [],
   "source": [
    "#开始训练\n",
    "# w1,w2,b1,b2 = train(x_train,label_train,1)   #  1--输出神经元个数"
   ]
  }
 ],
 "metadata": {
  "kernelspec": {
   "display_name": "Python 3 (ipykernel)",
   "language": "python",
   "name": "python3"
  },
  "language_info": {
   "codemirror_mode": {
    "name": "ipython",
    "version": 3
   },
   "file_extension": ".py",
   "mimetype": "text/x-python",
   "name": "python",
   "nbconvert_exporter": "python",
   "pygments_lexer": "ipython3",
   "version": "3.8.12"
  }
 },
 "nbformat": 4,
 "nbformat_minor": 5
}
